{
 "cells": [
  {
   "cell_type": "code",
   "execution_count": 3,
   "id": "6c035c42",
   "metadata": {},
   "outputs": [
    {
     "name": "stdout",
     "output_type": "stream",
     "text": [
      "pdal not imported, functions relying on it will fail\n",
      "opencv was not imported, functions relying on it will fail\n"
     ]
    }
   ],
   "source": [
    "import os\n",
    "import numpy as np\n",
    "import matplotlib.pyplot as plt\n",
    "import sys\n",
    "sys.path.append('/home/thayer/Desktop/DavidCS/ubuntu_partition/code/pydar/')\n",
    "import pydar\n",
    "\n",
    "%matplotlib inline\n",
    "%load_ext autoreload\n",
    "%autoreload 2"
   ]
  },
  {
   "cell_type": "code",
   "execution_count": null,
   "id": "e08433f9",
   "metadata": {},
   "outputs": [],
   "source": [
    "# suffixes\n",
    "pts_suffix = 'egusnowpit'\n",
    "trans_suffix = 'slfsnow'\n",
    "\n",
    "# Project path\n",
    "project_path = '/media/thayer/Data/mosaic_lidar/ROV/'\n",
    "\n",
    "# Project name\n",
    "project_name = 'mosaic_rov_290420.RiSCAN'\n",
    "\n",
    "# Load the cdf\n",
    "distro = np.load(os.path.join(os.getcwd(), 'cdf_all.npz'))\n",
    "\n"
   ]
  }
 ],
 "metadata": {
  "kernelspec": {
   "display_name": "Python 3",
   "language": "python",
   "name": "python3"
  },
  "language_info": {
   "codemirror_mode": {
    "name": "ipython",
    "version": 3
   },
   "file_extension": ".py",
   "mimetype": "text/x-python",
   "name": "python",
   "nbconvert_exporter": "python",
   "pygments_lexer": "ipython3",
   "version": "3.7.10"
  }
 },
 "nbformat": 4,
 "nbformat_minor": 5
}
