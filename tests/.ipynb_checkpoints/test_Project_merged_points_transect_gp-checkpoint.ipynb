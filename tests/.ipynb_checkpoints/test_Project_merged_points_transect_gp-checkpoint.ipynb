{
 "cells": [
  {
   "cell_type": "code",
   "execution_count": 4,
   "id": "6c035c42",
   "metadata": {},
   "outputs": [
    {
     "name": "stdout",
     "output_type": "stream",
     "text": [
      "pdal not imported, functions relying on it will fail\n",
      "opencv was not imported, functions relying on it will fail\n",
      "The autoreload extension is already loaded. To reload it, use:\n",
      "  %reload_ext autoreload\n"
     ]
    }
   ],
   "source": [
    "import vtk\n",
    "import matplotlib.pyplot as plt\n",
    "import os\n",
    "import numpy as np\n",
    "from vtk.util.numpy_support import vtk_to_numpy, numpy_to_vtk\n",
    "import sys\n",
    "import platform\n",
    "if platform.system()=='Windows':\n",
    "    sys.path.append('C:/Users/d34763s/Desktop/DavidCS/PhD/code/pydar/')\n",
    "else:\n",
    "    sys.path.append('/home/thayer/Desktop/DavidCS/ubuntu_partition/code/pydar/')\n",
    "import pydar\n",
    "\n",
    "%matplotlib inline\n",
    "%load_ext autoreload\n",
    "%autoreload 2"
   ]
  },
  {
   "cell_type": "code",
   "execution_count": 5,
   "id": "e08433f9",
   "metadata": {},
   "outputs": [],
   "source": [
    "# suffixes\n",
    "pts_suffix = 'egu'\n",
    "trans_suffix = 'slfsnow'\n",
    "\n",
    "# Project path\n",
    "if platform.system()=='Windows':\n",
    "    project_path = 'D:\\\\mosaic_lidar\\\\ROV\\\\'\n",
    "else:\n",
    "    project_path = '/media/thayer/Data/mosaic_lidar/ROV/'\n",
    "\n",
    "# Projects\n",
    "project_names = [\n",
    "                'mosaic_rov_190120.RiSCAN',\n",
    "                'mosaic_rov_250120.RiSCAN'\n",
    "                ]\n",
    "\n",
    "scan_area = pydar.ScanArea(project_path, project_names, import_mode='read_scan',\n",
    "                           class_list='all', suffix=pts_suffix, las_fieldnames=['Points',\n",
    "                            'Classification', 'PointId'])\n",
    "\n",
    "for project_name in project_names:\n",
    "    project = scan_area.project_dict[project_name]\n",
    "    project.read_transforms(suffix=trans_suffix)\n",
    "    project.apply_transforms(['current_transform'])\n",
    "    project.create_z_sigma()\n",
    "    \n",
    "    # Set the empirical cdf\n",
    "    project.create_empirical_cdf()\n",
    "    project.create_normalized_heights()"
   ]
  },
  {
   "cell_type": "code",
   "execution_count": 7,
   "id": "820238c6",
   "metadata": {},
   "outputs": [
    {
     "name": "stderr",
     "output_type": "stream",
     "text": [
      "/home/thayer/Desktop/DavidCS/ubuntu_partition/code/pydar/pydar.py:5014: UserWarning: Still has temporary fix for negative norm z sigma\n",
      "  # Create implicit selection loop\n"
     ]
    }
   ],
   "source": [
    "# Create images for use later\n",
    "x0 = -95\n",
    "y0 = -140\n",
    "nx = 400\n",
    "ny = 400\n",
    "dx = 0.1\n",
    "dy = 0.1\n",
    "yaw = 0\n",
    "\n",
    "leafsize = 500000\n",
    "lengthscale = 10\n",
    "outputscale = 0.01\n",
    "\n",
    "for project_name in project_names:\n",
    "    project = scan_area.project_dict[project_name]\n",
    "    project.merged_points_to_image(nx, ny, dx, dy, x0, y0, leafsize, lengthscale, outputscale)"
   ]
  },
  {
   "cell_type": "code",
   "execution_count": 8,
   "id": "7c04d052",
   "metadata": {},
   "outputs": [
    {
     "name": "stderr",
     "output_type": "stream",
     "text": [
      "/home/thayer/Desktop/DavidCS/ubuntu_partition/code/pydar/pydar.py:5902: UserWarning: Still has temporary fix for negative norm z sigma\n",
      "  tree_gp(node.lesser, pts_np, norm_height_np,\n"
     ]
    }
   ],
   "source": [
    "# Create a profile\n",
    "# begin without optimizing\n",
    "\n",
    "tx0 = x0 + 19\n",
    "ty0 = y0 + 7.6\n",
    "tx1 = x0 + 29\n",
    "ty1 = y0 + 24\n",
    "\n",
    "N = 500\n",
    "leafsize = 50000\n",
    "key = 'test'\n",
    "n_pts = 500\n",
    "use_z_sigma = True\n",
    "lengthscale = 2\n",
    "outputscale = 0.2\n",
    "nu = 2.5\n",
    "optimize = False\n",
    "max_time = 10\n",
    "\n",
    "i = 0\n",
    "scan_area.project_dict[project_names[i]].merged_points_transect_gp(tx0, ty0, tx1, ty1, N, leafsize,\n",
    "                                                                  key, n_pts=n_pts, use_z_sigma=use_z_sigma,\n",
    "                                                                  lengthscale=lengthscale, outputscale=\n",
    "                                                                   outputscale, nu=nu, \n",
    "                                                                   optimize=optimize, max_time=max_time)"
   ]
  },
  {
   "cell_type": "code",
   "execution_count": 14,
   "id": "84ac5e90",
   "metadata": {},
   "outputs": [
    {
     "name": "stdout",
     "output_type": "stream",
     "text": [
      "pdal not imported, functions relying on it will fail\n",
      "opencv was not imported, functions relying on it will fail\n",
      "['test']\n"
     ]
    }
   ],
   "source": [
    "# Try displaying pointcloud with profile\n",
    "\n",
    "z_min = -2.6\n",
    "z_max = -1.4\n",
    "\n",
    "scan_area.project_dict[project_names[i]].display_project(z_min, z_max, profile_list=[['test']])"
   ]
  },
  {
   "cell_type": "code",
   "execution_count": 17,
   "id": "09a428c5",
   "metadata": {},
   "outputs": [
    {
     "name": "stdout",
     "output_type": "stream",
     "text": [
      "pdal not imported, functions relying on it will fail\n",
      "opencv was not imported, functions relying on it will fail\n"
     ]
    }
   ],
   "source": [
    "# Try displaying profile on top of image\n",
    "z_min = -2.6\n",
    "z_max = -1.4\n",
    "\n",
    "scan_area.project_dict[project_names[i]].display_image(z_min, z_max, profile_list=[['test']])\n"
   ]
  },
  {
   "cell_type": "code",
   "execution_count": null,
   "id": "ba14789e",
   "metadata": {},
   "outputs": [],
   "source": [
    "# Try displaying profile on top of image, and warp scalars\n",
    "z_min = -2.6\n",
    "z_max = -1.4\n",
    "\n",
    "scan_area.project_dict[project_names[i]].display_image(z_min, z_max, \n",
    "                                                       warp_scalars=True,\n",
    "                                                       profile_list=[['test']])"
   ]
  }
 ],
 "metadata": {
  "kernelspec": {
   "display_name": "Python 3",
   "language": "python",
   "name": "python3"
  },
  "language_info": {
   "codemirror_mode": {
    "name": "ipython",
    "version": 3
   },
   "file_extension": ".py",
   "mimetype": "text/x-python",
   "name": "python",
   "nbconvert_exporter": "python",
   "pygments_lexer": "ipython3",
   "version": "3.7.10"
  }
 },
 "nbformat": 4,
 "nbformat_minor": 5
}
