{
 "cells": [
  {
   "cell_type": "code",
   "execution_count": 1,
   "id": "6c035c42",
   "metadata": {},
   "outputs": [
    {
     "name": "stdout",
     "output_type": "stream",
     "text": [
      "pdal not imported, functions relying on it will fail\n",
      "opencv was not imported, functions relying on it will fail\n"
     ]
    }
   ],
   "source": [
    "import vtk\n",
    "import matplotlib.pyplot as plt\n",
    "import os\n",
    "import numpy as np\n",
    "from vtk.util.numpy_support import vtk_to_numpy, numpy_to_vtk\n",
    "import sys\n",
    "import platform\n",
    "if platform.system()=='Windows':\n",
    "    sys.path.append('C:/Users/d34763s/Desktop/DavidCS/PhD/code/pydar/')\n",
    "else:\n",
    "    sys.path.append('/home/thayer/Desktop/DavidCS/ubuntu_partition/code/pydar/')\n",
    "import pydar\n",
    "\n",
    "%matplotlib inline\n",
    "%load_ext autoreload\n",
    "%autoreload 2"
   ]
  },
  {
   "cell_type": "code",
   "execution_count": 2,
   "id": "e08433f9",
   "metadata": {},
   "outputs": [],
   "source": [
    "# suffixes\n",
    "pts_suffix = 'egu'\n",
    "trans_suffix = 'slfsnow'\n",
    "\n",
    "# Project path\n",
    "if platform.system()=='Windows':\n",
    "    project_path = 'D:\\\\mosaic_lidar\\\\ROV\\\\'\n",
    "else:\n",
    "    project_path = '/media/thayer/Data/mosaic_lidar/ROV/'\n",
    "\n",
    "# Projects\n",
    "project_names = [\n",
    "                'mosaic_rov_190120.RiSCAN',\n",
    "                'mosaic_rov_250120.RiSCAN'\n",
    "                ]\n",
    "\n",
    "scan_area = pydar.ScanArea(project_path, project_names, import_mode='read_scan',\n",
    "                           class_list='all', suffix=pts_suffix, las_fieldnames=['Points',\n",
    "                            'Classification', 'PointId'])\n",
    "\n",
    "for project_name in project_names:\n",
    "    project = scan_area.project_dict[project_name]\n",
    "    project.read_transforms(suffix=trans_suffix)\n",
    "    project.apply_transforms(['current_transform'])\n",
    "    project.create_z_sigma()\n",
    "    \n",
    "    # Set the empirical cdf\n",
    "    #project.create_empirical_cdf()\n",
    "    #project.create_normalized_heights()"
   ]
  },
  {
   "cell_type": "code",
   "execution_count": 3,
   "id": "5d933246",
   "metadata": {},
   "outputs": [],
   "source": [
    "# Create images for use later\n",
    "x0 = -95\n",
    "y0 = -140\n",
    "nx = 400\n",
    "ny = 400\n",
    "dx = 0.1\n",
    "dy = 0.1\n",
    "yaw = 0\n",
    "\n",
    "lengthscale = 2\n",
    "outputscale = 0.01\n",
    "nu = 1.5\n",
    "n_neighbors = 256\n",
    "\n",
    "project.merged_points_to_image(nx, ny, dx, dy, x0, y0, lengthscale, outputscale, nu, n_neighbors=n_neighbors)\n",
    "\n",
    "for project_name in project_names:\n",
    "    project = scan_area.project_dict[project_name]\n",
    "    project.merged_points_to_image(nx, ny, dx, dy, x0, y0, lengthscale, outputscale, nu, n_neighbors=n_neighbors)\n"
   ]
  },
  {
   "cell_type": "code",
   "execution_count": 6,
   "id": "f5308dee",
   "metadata": {},
   "outputs": [
    {
     "name": "stdout",
     "output_type": "stream",
     "text": [
      "pdal not imported, functions relying on it will fail\n",
      "opencv was not imported, functions relying on it will fail\n"
     ]
    }
   ],
   "source": [
    "# Create a profile\n",
    "# begin without optimizing\n",
    "\n",
    "tx0 = x0 + 19\n",
    "ty0 = y0 + 8.6\n",
    "tx1 = x0 + 29\n",
    "ty1 = y0 + 25\n",
    "\n",
    "N = 500\n",
    "key = 'test'\n",
    "\n",
    "\n",
    "use_z_sigma = True\n",
    "lengthscale = 2\n",
    "outputscale = 0.01\n",
    "nu = 1.5\n",
    "optimize = False\n",
    "max_time = 10\n",
    "\n",
    "i = 1\n",
    "scan_area.project_dict[project_names[i]].merged_points_transect_gp(tx0, ty0, tx1, ty1, N,\n",
    "                                                                  key, use_z_sigma=use_z_sigma,\n",
    "                                                                  lengthscale=lengthscale, outputscale=\n",
    "                                                                   outputscale, nu=nu, \n",
    "                                                                   optimize=optimize, max_time=max_time)"
   ]
  },
  {
   "cell_type": "code",
   "execution_count": 7,
   "id": "05e6687c",
   "metadata": {},
   "outputs": [],
   "source": [
    "# Create a profile\n",
    "# now optimizing\n",
    "\n",
    "tx0 = x0 + 19\n",
    "ty0 = y0 + 8.6\n",
    "tx1 = x0 + 29\n",
    "ty1 = y0 + 25\n",
    "\n",
    "N = 500\n",
    "key = 'test'\n",
    "\n",
    "\n",
    "use_z_sigma = True\n",
    "lengthscale = 2\n",
    "outputscale = 0.01\n",
    "nu = 1.5\n",
    "optimize = True\n",
    "max_time = 10\n",
    "\n",
    "i = 1\n",
    "scan_area.project_dict[project_names[i]].merged_points_transect_gp(tx0, ty0, tx1, ty1, N,\n",
    "                                                                  key, use_z_sigma=use_z_sigma,\n",
    "                                                                  lengthscale=lengthscale, outputscale=\n",
    "                                                                   outputscale, nu=nu, \n",
    "                                                                   optimize=optimize, max_time=max_time)"
   ]
  },
  {
   "cell_type": "code",
   "execution_count": 8,
   "id": "a2cf3044",
   "metadata": {},
   "outputs": [
    {
     "data": {
      "text/plain": [
       "[<matplotlib.lines.Line2D at 0x7f2f7c4e3210>]"
      ]
     },
     "execution_count": 8,
     "metadata": {},
     "output_type": "execute_result"
    },
    {
     "data": {
      "image/png": "[encoded data removed]",
      "text/plain": [
       "<Figure size 432x288 with 1 Axes>"
      ]
     },
     "metadata": {
      "needs_background": "light"
     },
     "output_type": "display_data"
    }
   ],
   "source": [
    "# Extract profile\n",
    "gp_trans = scan_area.project_dict[project_names[i]].get_profile('test')\n",
    "\n",
    "plt.plot(gp_trans[:,2], gp_trans[:,3])\n",
    "plt.plot(gp_trans[:,2], gp_trans[:,4], '--')\n",
    "plt.plot(gp_trans[:,2], gp_trans[:,5], '--')"
   ]
  },
  {
   "cell_type": "code",
   "execution_count": 9,
   "id": "6a622258",
   "metadata": {},
   "outputs": [],
   "source": [
    "# Try displaying pointcloud with profile\n",
    "\n",
    "z_min = -2.6\n",
    "z_max = -1.4\n",
    "\n",
    "scan_area.project_dict[project_names[i]].display_project(z_min, z_max, profile_list=[['test']])"
   ]
  },
  {
   "cell_type": "code",
   "execution_count": 10,
   "id": "650691ea",
   "metadata": {},
   "outputs": [],
   "source": [
    "# Try displaying profile on top of image\n",
    "z_min = -2.6\n",
    "z_max = -1.4\n",
    "\n",
    "scan_area.project_dict[project_names[i]].display_image(z_min, z_max, profile_list=[['test']])\n"
   ]
  },
  {
   "cell_type": "code",
   "execution_count": 11,
   "id": "499e762d",
   "metadata": {},
   "outputs": [],
   "source": [
    "# Try displaying profile on top of image, and warp scalars\n",
    "z_min = -2.6\n",
    "z_max = -1.4\n",
    "\n",
    "scan_area.project_dict[project_names[i]].display_image(z_min, z_max, \n",
    "                                                       warp_scalars=True,\n",
    "                                                       profile_list=[['test']])"
   ]
  },
  {
   "cell_type": "code",
   "execution_count": 12,
   "id": "4a73cb5c",
   "metadata": {},
   "outputs": [],
   "source": [
    "# Create difference between the images\n",
    "for i in range(len(project_names)-1):\n",
    "    scan_area.difference_projects(project_names[i], project_names[i+1])"
   ]
  },
  {
   "cell_type": "code",
   "execution_count": 13,
   "id": "caa12dca",
   "metadata": {},
   "outputs": [],
   "source": [
    "diff_window = 0.1\n",
    "\n",
    "i = 0\n",
    "\n",
    "scan_area.display_difference(project_names[i], project_names[i+1], \n",
    "                                  diff_window, cmap='RdBu_r',\n",
    "                            profile_list=[['test']])"
   ]
  },
  {
   "cell_type": "code",
   "execution_count": 14,
   "id": "4625fd86",
   "metadata": {},
   "outputs": [],
   "source": [
    "diff_window = 0.1\n",
    "\n",
    "i = 0\n",
    "\n",
    "scan_area.display_warp_difference(project_names[i], project_names[i+1], \n",
    "                                  diff_window, cmap='RdBu_r',\n",
    "                             field='Elevation',\n",
    "                            profile_list=[['test']])"
   ]
  },
  {
   "cell_type": "code",
   "execution_count": null,
   "id": "7e735da3",
   "metadata": {},
   "outputs": [],
   "source": []
  }
 ],
 "metadata": {
  "kernelspec": {
   "display_name": "Python 3",
   "language": "python",
   "name": "python3"
  },
  "language_info": {
   "codemirror_mode": {
    "name": "ipython",
    "version": 3
   },
   "file_extension": ".py",
   "mimetype": "text/x-python",
   "name": "python",
   "nbconvert_exporter": "python",
   "pygments_lexer": "ipython3",
   "version": "3.7.10"
  }
 },
 "nbformat": 4,
 "nbformat_minor": 5
}
