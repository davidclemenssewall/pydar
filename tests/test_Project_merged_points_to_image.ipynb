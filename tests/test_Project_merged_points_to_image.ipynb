{
 "cells": [
  {
   "cell_type": "code",
   "execution_count": 1,
   "id": "4525d941",
   "metadata": {},
   "outputs": [
    {
     "name": "stdout",
     "output_type": "stream",
     "text": [
      "pdal not imported, functions relying on it will fail\n",
      "opencv was not imported, functions relying on it will fail\n"
     ]
    }
   ],
   "source": [
    "import numpy as np\n",
    "import matplotlib.pyplot as plt\n",
    "import vtk\n",
    "from vtk.util.numpy_support import vtk_to_numpy, numpy_to_vtk\n",
    "import sys\n",
    "sys.path.append('/home/thayer/Desktop/DavidCS/ubuntu_partition/code/pydar/')\n",
    "import pydar"
   ]
  },
  {
   "cell_type": "code",
   "execution_count": 2,
   "id": "0a55030b",
   "metadata": {},
   "outputs": [],
   "source": [
    "project_path = '/media/thayer/Data/mosaic_lidar/ROV/'\n",
    "project_name = 'mosaic_rov_220220.RiSCAN.RiSCAN'\n",
    "\n",
    "suffix='slfsnow'\n",
    "\n",
    "project = pydar.Project(project_path, project_name, import_mode='read_scan',\n",
    "                        class_list='all', las_fieldnames=['Points',\n",
    "                                                            'Classification',\n",
    "                                                            'PointId'],\n",
    "                        suffix=suffix)"
   ]
  },
  {
   "cell_type": "code",
   "execution_count": 3,
   "id": "983d0018",
   "metadata": {},
   "outputs": [],
   "source": [
    "# Apply the sop transform and create pointwise z uncertainty\n",
    "project.apply_transforms(['sop'])\n",
    "project.create_z_sigma()"
   ]
  },
  {
   "cell_type": "code",
   "execution_count": 4,
   "id": "45c90d3c",
   "metadata": {},
   "outputs": [],
   "source": [
    "# Test our function for using gpytorch to create an image from points\n",
    "\n",
    "x0 = 40.05\n",
    "y0 = 65.05\n",
    "nx = 400\n",
    "ny = 400\n",
    "dx = 0.1\n",
    "dy = 0.1\n",
    "yaw = 0\n",
    "\n",
    "leafsize = 500000\n",
    "lengthscale = 10\n",
    "outputscale = 0.01\n",
    "\n",
    "project.merged_points_to_image(nx, ny, dx, dy, x0, y0, leafsize, lengthscale, outputscale)"
   ]
  },
  {
   "cell_type": "code",
   "execution_count": 5,
   "id": "8993297d",
   "metadata": {},
   "outputs": [],
   "source": [
    "z_min = -3.5\n",
    "z_max = -2\n",
    "\n",
    "project.display_image(z_min, z_max)"
   ]
  },
  {
   "cell_type": "code",
   "execution_count": 6,
   "id": "556a8ce3",
   "metadata": {},
   "outputs": [],
   "source": [
    "z_min = -3.5\n",
    "z_max = -2\n",
    "\n",
    "project.display_image(z_min, z_max, warp_scalars=True)"
   ]
  },
  {
   "cell_type": "code",
   "execution_count": 7,
   "id": "b0be075c",
   "metadata": {},
   "outputs": [],
   "source": [
    "v_min = 0\n",
    "v_max = 0.1\n",
    "\n",
    "project.display_image(v_min, v_max, field='z_sigma',warp_scalars=False)"
   ]
  },
  {
   "cell_type": "code",
   "execution_count": null,
   "id": "edef3b97",
   "metadata": {},
   "outputs": [],
   "source": []
  }
 ],
 "metadata": {
  "kernelspec": {
   "display_name": "Python 3",
   "language": "python",
   "name": "python3"
  },
  "language_info": {
   "codemirror_mode": {
    "name": "ipython",
    "version": 3
   },
   "file_extension": ".py",
   "mimetype": "text/x-python",
   "name": "python",
   "nbconvert_exporter": "python",
   "pygments_lexer": "ipython3",
   "version": "3.7.10"
  }
 },
 "nbformat": 4,
 "nbformat_minor": 5
}
