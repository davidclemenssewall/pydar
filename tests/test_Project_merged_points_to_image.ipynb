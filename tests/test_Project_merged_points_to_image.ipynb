{
 "cells": [
  {
   "cell_type": "code",
   "execution_count": 1,
   "id": "4525d941",
   "metadata": {},
   "outputs": [
    {
     "name": "stdout",
     "output_type": "stream",
     "text": [
      "pdal not imported, functions relying on it will fail\n",
      "opencv was not imported, functions relying on it will fail\n"
     ]
    }
   ],
   "source": [
    "import numpy as np\n",
    "import matplotlib.pyplot as plt\n",
    "import vtk\n",
    "from vtk.util.numpy_support import vtk_to_numpy, numpy_to_vtk\n",
    "import sys\n",
    "sys.path.append('/home/thayer/Desktop/DavidCS/ubuntu_partition/code/pydar/')\n",
    "import pydar\n",
    "\n",
    "%load_ext autoreload\n",
    "%autoreload 2"
   ]
  },
  {
   "cell_type": "code",
   "execution_count": 2,
   "id": "0a55030b",
   "metadata": {},
   "outputs": [],
   "source": [
    "project_path = '/media/thayer/Data/mosaic_lidar/ROV/'\n",
    "project_name = 'mosaic_rov_220220.RiSCAN.RiSCAN'\n",
    "\n",
    "suffix='slfsnow'\n",
    "\n",
    "project = pydar.Project(project_path, project_name, import_mode='read_scan',\n",
    "                        class_list='all', las_fieldnames=['Points',\n",
    "                                                            'Classification',\n",
    "                                                            'PointId'],\n",
    "                        suffix=suffix)"
   ]
  },
  {
   "cell_type": "code",
   "execution_count": 3,
   "id": "983d0018",
   "metadata": {},
   "outputs": [],
   "source": [
    "# Apply the sop transform and create pointwise z uncertainty\n",
    "project.apply_transforms(['sop'])\n",
    "project.create_z_sigma()"
   ]
  },
  {
   "cell_type": "code",
   "execution_count": 4,
   "id": "7eeba008",
   "metadata": {},
   "outputs": [],
   "source": [
    "# Now create normalized heights\n",
    "x0 = 40.05\n",
    "y0 = 65.05\n",
    "nx = 200\n",
    "ny = 200\n",
    "dx = 0.1\n",
    "dy = 0.1\n",
    "\n",
    "bounds = (x0-5, x0+nx*dx+5, y0-5, y0+ny*dy+5, -10, 0)\n",
    "#project.create_empirical_cdf(bounds)\n",
    "#project.create_normalized_heights()"
   ]
  },
  {
   "cell_type": "code",
   "execution_count": 8,
   "id": "d80827a8",
   "metadata": {},
   "outputs": [],
   "source": [
    "# Display normalized heights\n",
    "\n",
    "#project.display_project(-3, 3, field='norm_height')"
   ]
  },
  {
   "cell_type": "code",
   "execution_count": 5,
   "id": "86c943bf",
   "metadata": {},
   "outputs": [
    {
     "name": "stdout",
     "output_type": "stream",
     "text": [
      "vtkPolyData (0x55cf589a59b0)\n",
      "  Debug: Off\n",
      "  Modified Time: 156991680\n",
      "  Reference Count: 1\n",
      "  Registered Events: (none)\n",
      "  Information: 0x55cf589a58b0\n",
      "  Data Released: False\n",
      "  Global Release Data: Off\n",
      "  UpdateTime: 156991684\n",
      "  Field Data:\n",
      "    Debug: Off\n",
      "    Modified Time: 156991515\n",
      "    Reference Count: 1\n",
      "    Registered Events: (none)\n",
      "    Number Of Arrays: 0\n",
      "    Number Of Components: 0\n",
      "    Number Of Tuples: 0\n",
      "  Number Of Points: 14380\n",
      "  Number Of Cells: 7\n",
      "  Cell Data:\n",
      "    Debug: Off\n",
      "    Modified Time: 156991646\n",
      "    Reference Count: 1\n",
      "    Registered Events: \n",
      "      Registered Observers:\n",
      "        vtkObserver (0x55cf589a6010)\n",
      "          Event: 33\n",
      "          EventName: ModifiedEvent\n",
      "          Command: 0x55cf589a5cd0\n",
      "          Priority: 0\n",
      "          Tag: 1\n",
      "    Number Of Arrays: 0\n",
      "    Number Of Components: 0\n",
      "    Number Of Tuples: 0\n",
      "    Copy Tuple Flags: ( 1 1 1 1 1 1 1 1 1 1 1 )\n",
      "    Interpolate Flags: ( 1 1 1 1 1 0 0 1 1 1 1 )\n",
      "    Pass Through Flags: ( 1 1 1 1 1 1 1 1 1 1 1 )\n",
      "    Scalars: (none)\n",
      "    Vectors: (none)\n",
      "    Normals: (none)\n",
      "    TCoords: (none)\n",
      "    Tensors: (none)\n",
      "    GlobalIds: (none)\n",
      "    PedigreeIds: (none)\n",
      "    EdgeFlag: (none)\n",
      "    Tangents: (none)\n",
      "    RationalWeights: (none)\n",
      "    HigherOrderDegrees: (none)\n",
      "  Point Data:\n",
      "    Debug: Off\n",
      "    Modified Time: 156991678\n",
      "    Reference Count: 1\n",
      "    Registered Events: \n",
      "      Registered Observers:\n",
      "        vtkObserver (0x55cf589a5e80)\n",
      "          Event: 33\n",
      "          EventName: ModifiedEvent\n",
      "          Command: 0x55cf589a5cd0\n",
      "          Priority: 0\n",
      "          Tag: 1\n",
      "    Number Of Arrays: 3\n",
      "    Array 0 name = Classification\n",
      "    Array 1 name = PointId\n",
      "    Array 2 name = z_sigma\n",
      "    Number Of Components: 3\n",
      "    Number Of Tuples: 14380\n",
      "    Copy Tuple Flags: ( 1 1 1 1 1 1 1 1 1 1 1 )\n",
      "    Interpolate Flags: ( 1 1 1 1 1 0 0 1 1 1 1 )\n",
      "    Pass Through Flags: ( 1 1 1 1 1 1 1 1 1 1 1 )\n",
      "    Scalars: \n",
      "      Debug: Off\n",
      "      Modified Time: 156991652\n",
      "      Reference Count: 1\n",
      "      Registered Events: (none)\n",
      "      Name: Classification\n",
      "      Data type: unsigned char\n",
      "      Size: 14380\n",
      "      MaxId: 14379\n",
      "      NumberOfComponents: 1\n",
      "      Information: 0x55cf589f20a0\n",
      "        Debug: Off\n",
      "        Modified Time: 156991656\n",
      "        Reference Count: 1\n",
      "        Registered Events: (none)\n",
      "      Name: Classification\n",
      "      Number Of Components: 1\n",
      "      Number Of Tuples: 14380\n",
      "      Size: 14380\n",
      "      MaxId: 14379\n",
      "      LookupTable: (none)\n",
      "    Vectors: (none)\n",
      "    Normals: (none)\n",
      "    TCoords: (none)\n",
      "    Tensors: (none)\n",
      "    GlobalIds: (none)\n",
      "    PedigreeIds: \n",
      "      Debug: Off\n",
      "      Modified Time: 156991662\n",
      "      Reference Count: 1\n",
      "      Registered Events: (none)\n",
      "      Name: PointId\n",
      "      Data type: unsigned int\n",
      "      Size: 14380\n",
      "      MaxId: 14379\n",
      "      NumberOfComponents: 1\n",
      "      Information: 0x55cf589f2680\n",
      "        Debug: Off\n",
      "        Modified Time: 156991666\n",
      "        Reference Count: 1\n",
      "        Registered Events: (none)\n",
      "      Name: PointId\n",
      "      Number Of Components: 1\n",
      "      Number Of Tuples: 14380\n",
      "      Size: 14380\n",
      "      MaxId: 14379\n",
      "      LookupTable: (none)\n",
      "    EdgeFlag: (none)\n",
      "    Tangents: (none)\n",
      "    RationalWeights: (none)\n",
      "    HigherOrderDegrees: (none)\n",
      "  Bounds: \n",
      "    Xmin,Xmax: (40.052, 60.0485)\n",
      "    Ymin,Ymax: (65.051, 85.0493)\n",
      "    Zmin,Zmax: (-3.13116, -2.50147)\n",
      "  Compute Time: 156991957\n",
      "  Editable: false\n",
      "  Number Of Points: 14380\n",
      "  Point Coordinates: 0x55cf589aa000\n",
      "  PointLocator: 0\n",
      "  CellLocator: 0\n",
      "  Number Of Vertices: 7\n",
      "  Number Of Lines: 0\n",
      "  Number Of Polygons: 0\n",
      "  Number Of Triangle Strips: 0\n",
      "  Number Of Pieces: 1\n",
      "  Piece: 0\n",
      "  Ghost Level: 0\n",
      "\n",
      "\n"
     ]
    }
   ],
   "source": [
    "# Examine the polydata we'll be using to create image\n",
    "pdata = project.get_merged_points(x0=x0, y0=y0, wx=nx*dx, wy=ny*dy)\n",
    "print(pdata)"
   ]
  },
  {
   "cell_type": "code",
   "execution_count": 6,
   "id": "45c90d3c",
   "metadata": {},
   "outputs": [
    {
     "name": "stdout",
     "output_type": "stream",
     "text": [
      "CPU times: user 42.9 s, sys: 1.59 s, total: 44.4 s\n",
      "Wall time: 15.4 s\n"
     ]
    }
   ],
   "source": [
    "%%time\n",
    "\n",
    "# Test our function for using gpytorch to create an image from points\n",
    "\n",
    "yaw = 0\n",
    "\n",
    "#leafsize = 500000\n",
    "lengthscale = 2\n",
    "outputscale = 0.01\n",
    "nu = 1.5\n",
    "n_neighbors = 256\n",
    "\n",
    "project.merged_points_to_image(nx, ny, dx, dy, x0, y0, lengthscale, outputscale, nu, n_neighbors=n_neighbors)"
   ]
  },
  {
   "cell_type": "code",
   "execution_count": 7,
   "id": "8993297d",
   "metadata": {},
   "outputs": [],
   "source": [
    "z_min = -3.5\n",
    "z_max = -2\n",
    "\n",
    "project.display_image(z_min, z_max)"
   ]
  },
  {
   "cell_type": "code",
   "execution_count": 8,
   "id": "be30bc5d",
   "metadata": {},
   "outputs": [],
   "source": [
    "z_min = 0\n",
    "z_max = 0.25\n",
    "\n",
    "project.display_image(z_min, z_max, field='z_ci')"
   ]
  },
  {
   "cell_type": "code",
   "execution_count": 13,
   "id": "556a8ce3",
   "metadata": {},
   "outputs": [],
   "source": [
    "z_min = -3.5\n",
    "z_max = -2\n",
    "\n",
    "project.display_image(z_min, z_max, warp_scalars=True)"
   ]
  },
  {
   "cell_type": "code",
   "execution_count": 19,
   "id": "28170d5e",
   "metadata": {},
   "outputs": [
    {
     "name": "stdout",
     "output_type": "stream",
     "text": [
      "vtkImageData (0x5600bbf5f7f0)\n",
      "  Debug: Off\n",
      "  Modified Time: 1099731304\n",
      "  Reference Count: 1\n",
      "  Registered Events: (none)\n",
      "  Information: 0x5600543717b0\n",
      "  Data Released: False\n",
      "  Global Release Data: Off\n",
      "  UpdateTime: 1099686936\n",
      "  Field Data:\n",
      "    Debug: Off\n",
      "    Modified Time: 1099683294\n",
      "    Reference Count: 1\n",
      "    Registered Events: (none)\n",
      "    Number Of Arrays: 0\n",
      "    Number Of Components: 0\n",
      "    Number Of Tuples: 0\n",
      "  Number Of Points: 40000\n",
      "  Number Of Cells: 39601\n",
      "  Cell Data:\n",
      "    Debug: Off\n",
      "    Modified Time: 1099683297\n",
      "    Reference Count: 1\n",
      "    Registered Events: \n",
      "      Registered Observers:\n",
      "        vtkObserver (0x5600c2374410)\n",
      "          Event: 33\n",
      "          EventName: ModifiedEvent\n",
      "          Command: 0x5600c29c51c0\n",
      "          Priority: 0\n",
      "          Tag: 1\n",
      "    Number Of Arrays: 0\n",
      "    Number Of Components: 0\n",
      "    Number Of Tuples: 0\n",
      "    Copy Tuple Flags: ( 1 1 1 1 1 0 1 1 1 1 1 )\n",
      "    Interpolate Flags: ( 1 1 1 1 1 0 0 1 1 1 1 )\n",
      "    Pass Through Flags: ( 1 1 1 1 1 1 1 1 1 1 1 )\n",
      "    Scalars: (none)\n",
      "    Vectors: (none)\n",
      "    Normals: (none)\n",
      "    TCoords: (none)\n",
      "    Tensors: (none)\n",
      "    GlobalIds: (none)\n",
      "    PedigreeIds: (none)\n",
      "    EdgeFlag: (none)\n",
      "    Tangents: (none)\n",
      "    RationalWeights: (none)\n",
      "    HigherOrderDegrees: (none)\n",
      "  Point Data:\n",
      "    Debug: Off\n",
      "    Modified Time: 1099731304\n",
      "    Reference Count: 1\n",
      "    Registered Events: \n",
      "      Registered Observers:\n",
      "        vtkObserver (0x5600c5927770)\n",
      "          Event: 33\n",
      "          EventName: ModifiedEvent\n",
      "          Command: 0x5600c29c51c0\n",
      "          Priority: 0\n",
      "          Tag: 1\n",
      "    Number Of Arrays: 4\n",
      "    Array 0 name = Elevation\n",
      "    Array 1 name = z_lower\n",
      "    Array 2 name = z_upper\n",
      "    Array 3 name = z_ci\n",
      "    Number Of Components: 4\n",
      "    Number Of Tuples: 40000\n",
      "    Copy Tuple Flags: ( 1 1 1 1 1 0 1 1 1 1 1 )\n",
      "    Interpolate Flags: ( 1 1 1 1 1 0 0 1 1 1 1 )\n",
      "    Pass Through Flags: ( 1 1 1 1 1 1 1 1 1 1 1 )\n",
      "    Scalars: \n",
      "      Debug: Off\n",
      "      Modified Time: 1099683350\n",
      "      Reference Count: 1\n",
      "      Registered Events: (none)\n",
      "      Name: Elevation\n",
      "      Data type: float\n",
      "      Size: 40000\n",
      "      MaxId: 39999\n",
      "      NumberOfComponents: 1\n",
      "      Information: 0\n",
      "      Name: Elevation\n",
      "      Number Of Components: 1\n",
      "      Number Of Tuples: 40000\n",
      "      Size: 40000\n",
      "      MaxId: 39999\n",
      "      LookupTable: (none)\n",
      "    Vectors: (none)\n",
      "    Normals: (none)\n",
      "    TCoords: (none)\n",
      "    Tensors: (none)\n",
      "    GlobalIds: (none)\n",
      "    PedigreeIds: (none)\n",
      "    EdgeFlag: (none)\n",
      "    Tangents: (none)\n",
      "    RationalWeights: (none)\n",
      "    HigherOrderDegrees: (none)\n",
      "  Bounds: \n",
      "    Xmin,Xmax: (0, 19.9)\n",
      "    Ymin,Ymax: (0, 19.9)\n",
      "    Zmin,Zmax: (0, 0)\n",
      "  Compute Time: 1100467078\n",
      "  Spacing: (0.1, 0.1, 1)\n",
      "  Origin: (0, 0, 0)\n",
      "  Direction: (1, 0, 0, 0, 1, 0, 0, 0, 1)\n",
      "  Dimensions: (200, 200, 1)\n",
      "  Increments: (0, 0, 0)\n",
      "  Extent: (0, 199, 0, 199, 0, 0)\n",
      "\n",
      "\n"
     ]
    }
   ],
   "source": [
    "print(project.image)"
   ]
  },
  {
   "cell_type": "code",
   "execution_count": 14,
   "id": "b0be075c",
   "metadata": {},
   "outputs": [],
   "source": [
    "v_min = 0\n",
    "v_max = 0.3\n",
    "\n",
    "project.display_image(v_min, v_max, field='Elevation',warp_scalars=True, color_field='z_ci', show_points=True)"
   ]
  },
  {
   "cell_type": "code",
   "execution_count": 10,
   "id": "edd34a8a",
   "metadata": {},
   "outputs": [
    {
     "name": "stdout",
     "output_type": "stream",
     "text": [
      "CPU times: user 20.7 s, sys: 886 ms, total: 21.6 s\n",
      "Wall time: 10.4 s\n"
     ]
    }
   ],
   "source": [
    "%%time\n",
    "# Test max_pts\n",
    "\n",
    "max_pts = 5000\n",
    "\n",
    "project.merged_points_to_image(nx, ny, dx, dy, x0, y0, lengthscale, outputscale, nu, n_neighbors=n_neighbors,\n",
    "                              max_pts=max_pts)"
   ]
  },
  {
   "cell_type": "code",
   "execution_count": 11,
   "id": "f759a215",
   "metadata": {},
   "outputs": [
    {
     "name": "stdout",
     "output_type": "stream",
     "text": [
      "pdal not imported, functions relying on it will fail\n",
      "opencv was not imported, functions relying on it will fail\n"
     ]
    },
    {
     "name": "stderr",
     "output_type": "stream",
     "text": [
      "/home/thayer/anaconda3/envs/vtk_gpytorch/lib/python3.7/site-packages/gpytorch/models/exact_gp.py:275: GPInputWarning: The input matches the stored training data. Did you forget to call model.train()?\n",
      "  GPInputWarning,\n"
     ]
    }
   ],
   "source": [
    "# Repeat, now with corner_coords\n",
    "corner_coords = np.array([[40, 65, 0],\n",
    "                         [40, 85, 0],\n",
    "                         [60, 85, 0]])\n",
    "yaw = 0\n",
    "\n",
    "#leafsize = 500000\n",
    "lengthscale = 2\n",
    "outputscale = 0.01\n",
    "nu = 1.5\n",
    "n_neighbors = 256\n",
    "\n",
    "project.merged_points_to_image(nx, ny, dx, dy, x0, y0, lengthscale, outputscale, nu, n_neighbors=n_neighbors,\n",
    "                              corner_coords=corner_coords)"
   ]
  },
  {
   "cell_type": "code",
   "execution_count": 12,
   "id": "5c24c418",
   "metadata": {},
   "outputs": [],
   "source": [
    "z_min = -3.5\n",
    "z_max = -2\n",
    "\n",
    "project.display_image(z_min, z_max)"
   ]
  },
  {
   "cell_type": "code",
   "execution_count": 21,
   "id": "edef3b97",
   "metadata": {},
   "outputs": [],
   "source": [
    "# Try saving and then reading from file\n",
    "project.write_image(suffix=suffix, name='test')"
   ]
  },
  {
   "cell_type": "code",
   "execution_count": 22,
   "id": "e19d2099",
   "metadata": {},
   "outputs": [],
   "source": [
    "# Delete the project\n",
    "del project"
   ]
  },
  {
   "cell_type": "code",
   "execution_count": 23,
   "id": "c22e5859",
   "metadata": {},
   "outputs": [],
   "source": [
    "# Create a new project and read the image\n",
    "project_path = '/media/thayer/Data/mosaic_lidar/ROV/'\n",
    "project_name = 'mosaic_rov_220220.RiSCAN.RiSCAN'\n",
    "\n",
    "suffix='slfsnow'\n",
    "\n",
    "project = pydar.Project(project_path, project_name, import_mode='empty',\n",
    "                        suffix=suffix)"
   ]
  },
  {
   "cell_type": "code",
   "execution_count": 24,
   "id": "118beb9e",
   "metadata": {},
   "outputs": [],
   "source": [
    "project.read_image(suffix=suffix, name='test')"
   ]
  },
  {
   "cell_type": "code",
   "execution_count": 25,
   "id": "c8404c5d",
   "metadata": {},
   "outputs": [],
   "source": [
    "z_min = -3.5\n",
    "z_max = -2\n",
    "\n",
    "project.display_image(z_min, z_max, warp_scalars=True)"
   ]
  },
  {
   "cell_type": "code",
   "execution_count": null,
   "id": "2b720cd8",
   "metadata": {},
   "outputs": [],
   "source": []
  }
 ],
 "metadata": {
  "kernelspec": {
   "display_name": "Python 3",
   "language": "python",
   "name": "python3"
  },
  "language_info": {
   "codemirror_mode": {
    "name": "ipython",
    "version": 3
   },
   "file_extension": ".py",
   "mimetype": "text/x-python",
   "name": "python",
   "nbconvert_exporter": "python",
   "pygments_lexer": "ipython3",
   "version": "3.7.10"
  }
 },
 "nbformat": 4,
 "nbformat_minor": 5
}
